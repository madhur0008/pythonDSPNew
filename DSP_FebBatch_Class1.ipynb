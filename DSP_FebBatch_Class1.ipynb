{
 "cells": [
  {
   "cell_type": "raw",
   "metadata": {},
   "source": [
    "#-----------------------------\n",
    "\n",
    "GUI\n",
    "\n",
    "Anaconda/Miniconda\n",
    "\n",
    "1. python 2.x/3.x\n",
    "2. Reporting tool - jupyter\n",
    "3. IDE - Spyder\n",
    "4. python APIs or libraries\n",
    "\n",
    "Anaconda bundles the above 4 - 700+ packages/libraries/APIs for Data Science\n",
    "\n",
    "\n",
    "#-----------------------------\n",
    "# Jupyter Notebook\n",
    "#-----------------------------\n",
    "\n",
    "-> Reporting Tool\n",
    "1. Data manipulation\n",
    "2. Data Mining\n",
    "3. Visualization\n",
    "\n",
    "\n",
    "Step 1 : Starting Up\n",
    "\t-> Open Anaconda Navigator - Find Jupyter Notebook -> Click on Launch\n",
    "\t-> Open Anaconda Prompt or Command Prompt -> \n",
    "\t\t\t\t> jupyter notebook\n",
    "\n",
    "Step 2 : New Notebook\n",
    "\t-> New -> select notebook\n",
    "\t\n",
    "Step 3 : Rename\n",
    "\n",
    "Step 4 : Cells - area where code/text/information can be written, processed or displayed\n",
    "\n",
    "\n",
    "Two States\n",
    "\n",
    "1. Select - Esc - Blue\n",
    "2. Edit - CLick on the cell - Green\n",
    "\n",
    "Three Modes\n",
    "\n",
    "1. Code Mode - Syntax correct python codes -> Esc + Y\n",
    "2. Raw Text Mode (Raw NBConvert) -> Esc + R\n",
    "3. Markdown - stylized text - bold, Ita, -> Esc + M\n",
    "\n",
    "in Slect State :\n",
    "X - cut\n",
    "V - Paste\n",
    "C - Copy\n",
    "DD - Delete\n",
    "\n",
    "******************\n",
    "Ctrl + Enter \t-  Execute and stay there\n",
    "Shift + Enter\t-  Execute and go to the next cell or create a new one\n",
    "******************\n",
    "\n",
    "\n",
    "# Markdown\n",
    "\n",
    "**Text** -> Bold\n",
    "\n",
    "_Text_ -> Ita\n",
    "*Text*\n",
    "\n",
    "***Text*** -> Bold Italics\n",
    "\n",
    "\n",
    "~~Text~~ -> Strikethrough\n",
    "\n",
    "# H1\n",
    "## H2\n",
    "..\n",
    "..\n",
    "###### H6 -> Bold ita and smallest size\n",
    "\n",
    "\n",
    "#-------------------------------------------------------------\n",
    "\n",
    "\n",
    "\n",
    "#-----------------------------------------------------------\n",
    "#------------------------------\n",
    "# Syntax Rules \n",
    "#------------------------------\n",
    "\n",
    "0. Python is case sensitive\n",
    "\n",
    "1. # is for comments\n",
    "\t\t-> doesn't support multiline comments\n",
    "\n",
    "2. The INC Rules - Identifier Naming Conventions \n",
    "\ta. Purely alphanumeric\n",
    "\tb. No symbols allowed except an underscore\n",
    "\tc. Must always begin with an alphabet\n",
    "\td. Some variables (attributes or properties) which begin and ends with __xxxxx__\n",
    "\n",
    "\t\t__main__()\n",
    "\t\t__init__\n",
    "\te. Reserved and key words mustn't be used (greeny things)\n",
    "\n",
    "\n",
    "\n",
    "3. Operators\n",
    "\n",
    "\tAssignment\n",
    "\n",
    "\t\t=\n",
    "\n",
    "\tArithmatic\n",
    "\t\n",
    "\t\t/ * + -\n",
    "\n",
    "\t\t//\n",
    "\t\t\n",
    "\t\t%\t\t\n",
    "\n",
    "\n",
    "\tAssignment + Arithematic\n",
    "\n",
    "\t+=\n",
    "\t-=\n",
    "\t/=\n",
    "\t*= \n",
    "\t%=\n",
    "\n",
    "\n",
    "\tRelational\n",
    "\n",
    "\t>\n",
    "\t<\n",
    "\t>=\n",
    "\t<=\n",
    "\t==\n",
    "\t!=\n",
    "\n",
    "\tLogical\n",
    "\n",
    "\tand -> True if the participants are True\n",
    "\tor  -> Any one par is True, then op is True\n",
    "\tnot -> negation\n",
    "\n",
    "\tRange \n",
    "\n",
    "\tin    \n",
    "\tnot in\n",
    "\n",
    "\n",
    "basic components -\n",
    "\toperators\n",
    "\tdata types\n",
    "\tconditional\n",
    "\tloops\n",
    "\n",
    "\n",
    "\n",
    "Object : something that can store information\n",
    "\t1. What kind of info?\n",
    "\t\t\n",
    "\t\tData types : \n",
    "\t\t\n",
    "\tNumbers\n",
    "\t\tw/o decimals\n",
    "\t\t\t\tint  -> -2147483648 to 2147483647\n",
    "\t\t\t\tlong -> NON DECIMAL POINT NUMBERS -Inf to +Inf\n",
    "\t\twith decimals\n",
    "\t\t\t\tfloat -> -Inf to +Inf\t\t\t\n",
    "\t\tDates \n",
    "\t\tBoolean/Logical\n",
    "\t\t\t\tbool -> True and False\n",
    "\t\t\n",
    "\tText \n",
    "\t\t\t\tstr\n",
    "\t\n",
    "\n",
    "\n",
    "\n",
    "\n",
    "\t\n",
    "\t\n",
    "\t2. How is it being stored?\n",
    "\n",
    "\t\tData Structures\n",
    "\n",
    "_--------------------------------------------------\n",
    "\n",
    "\n",
    "\n",
    "\n",
    "\n",
    "\n",
    "\n",
    "\n",
    "\n",
    "\n",
    "\n",
    "\n",
    "\n",
    "\n",
    "\n",
    "\n",
    "\n",
    "\n",
    "#------------------------------\n",
    "Data Structures \n",
    "\n",
    "\n",
    "\n",
    "\n",
    "\n",
    "\n",
    "#include<stdio.h>\n",
    "\n",
    "main(){\n",
    "\n",
    "   int x=10;\n",
    "   x = x + 10;\n",
    "   printf(\"%d\",x);\n",
    "\n",
    "}\n",
    "\n",
    "\n",
    "\n",
    "main():\n",
    "\n",
    "    int x=10;\n",
    "    x = x + 10;\n",
    "    printf(\"%d\",x);\n",
    "\n",
    "int y = 20;"
   ]
  },
  {
   "cell_type": "code",
   "execution_count": null,
   "metadata": {
    "collapsed": false
   },
   "outputs": [],
   "source": [
    "x = 10\n",
    "x = x * 100\n",
    "print x\n"
   ]
  },
  {
   "cell_type": "raw",
   "metadata": {},
   "source": [
    "print x -> this is a plain text"
   ]
  },
  {
   "cell_type": "markdown",
   "metadata": {},
   "source": [
    "# This is Heading\n",
    "\n",
    "This **word** is bold and not it's in *italics*\n",
    "\n",
    "\n",
    "~~*** Mr Nagesh ***~~\n",
    "\n",
    "## Heading 2\n",
    "\n",
    "### Heading 3..\n",
    "\n",
    "\n",
    "###### Heading 6\n"
   ]
  },
  {
   "cell_type": "code",
   "execution_count": null,
   "metadata": {
    "collapsed": false
   },
   "outputs": [],
   "source": [
    "# This is a python comment\n",
    "#myvariable\n",
    "#MyVariable\n",
    "#My_Variable\n",
    "\n",
    "Sum = 2 + 3\n",
    "print Sum"
   ]
  },
  {
   "cell_type": "code",
   "execution_count": null,
   "metadata": {
    "collapsed": false
   },
   "outputs": [],
   "source": [
    "100.0/3"
   ]
  },
  {
   "cell_type": "code",
   "execution_count": null,
   "metadata": {
    "collapsed": false
   },
   "outputs": [],
   "source": [
    "144/5.6"
   ]
  },
  {
   "cell_type": "code",
   "execution_count": null,
   "metadata": {
    "collapsed": false
   },
   "outputs": [],
   "source": [
    "144//5.6"
   ]
  },
  {
   "cell_type": "code",
   "execution_count": null,
   "metadata": {
    "collapsed": false
   },
   "outputs": [],
   "source": [
    "100.0/3.0"
   ]
  },
  {
   "cell_type": "code",
   "execution_count": null,
   "metadata": {
    "collapsed": true
   },
   "outputs": [],
   "source": [
    "x = 10\n",
    "x = x + 10 # x += 10\n",
    "x = x * 10"
   ]
  },
  {
   "cell_type": "code",
   "execution_count": null,
   "metadata": {
    "collapsed": true
   },
   "outputs": [],
   "source": [
    "# Dynamically Typed Languages"
   ]
  },
  {
   "cell_type": "code",
   "execution_count": null,
   "metadata": {
    "collapsed": false
   },
   "outputs": [],
   "source": [
    "x = 10\n",
    "type(x)"
   ]
  },
  {
   "cell_type": "code",
   "execution_count": null,
   "metadata": {
    "collapsed": false
   },
   "outputs": [],
   "source": [
    "s1 = \"Py Class\"\n",
    "type(s1)"
   ]
  },
  {
   "cell_type": "raw",
   "metadata": {},
   "source": [
    "str(x) -> x is converted to string and x can be float,long,int,bool\n",
    "\n",
    "float() -> x is converted to float and x can be long, int, bool\n",
    "\n",
    "long() -> x is converted to long and x can be int, bool\n",
    "\n",
    "int()  -> converts x to int and x can be bool and sometimes, long (-2147483648 to 2147483647)\n",
    "\n",
    "bool() -> \n",
    "\n",
    "for strings to float, int, long -> suitable float int long values should be present as string "
   ]
  },
  {
   "cell_type": "code",
   "execution_count": null,
   "metadata": {
    "collapsed": false
   },
   "outputs": [],
   "source": [
    "x = \"12.345\"\n",
    "type(x)"
   ]
  },
  {
   "cell_type": "code",
   "execution_count": null,
   "metadata": {
    "collapsed": false
   },
   "outputs": [],
   "source": [
    "float(x)"
   ]
  },
  {
   "cell_type": "code",
   "execution_count": null,
   "metadata": {
    "collapsed": false
   },
   "outputs": [],
   "source": [
    "x = 12.0\n",
    "int(x)"
   ]
  },
  {
   "cell_type": "code",
   "execution_count": null,
   "metadata": {
    "collapsed": true
   },
   "outputs": [],
   "source": [
    "#Flow Control Statements\n",
    "\n",
    "# Conditional Statements\n",
    "\n",
    "# Loops"
   ]
  },
  {
   "cell_type": "code",
   "execution_count": null,
   "metadata": {
    "collapsed": true
   },
   "outputs": [],
   "source": [
    "# Conditional\n",
    "# if else and if else+if else"
   ]
  },
  {
   "cell_type": "code",
   "execution_count": null,
   "metadata": {
    "collapsed": false
   },
   "outputs": [],
   "source": [
    "x = -10\n",
    "if(x > 0):\n",
    "    print(\"positive\")\n",
    "else:\n",
    "    print(\"negative\")"
   ]
  },
  {
   "cell_type": "code",
   "execution_count": null,
   "metadata": {
    "collapsed": false
   },
   "outputs": [],
   "source": [
    "x = -10\n",
    "if(x == 0):\n",
    "    print(\"zero\")\n",
    "else:\n",
    "    if(x > 0):\n",
    "        print(\"positive\")\n",
    "    else:\n",
    "        print(\"negative\")\n",
    "        "
   ]
  },
  {
   "cell_type": "code",
   "execution_count": null,
   "metadata": {
    "collapsed": false
   },
   "outputs": [],
   "source": [
    "if(x == 0):\n",
    "    print(\"zero\")\n",
    "elif(x > 0):\n",
    "    print(\"positive\")\n",
    "else:\n",
    "    print(\"negative\")"
   ]
  },
  {
   "cell_type": "code",
   "execution_count": null,
   "metadata": {
    "collapsed": false
   },
   "outputs": [],
   "source": [
    "# ifelse(x > 0,\"positive\",\"negative\")\n",
    "\n",
    "if(x > 0):\n",
    "    res = \"positive\"\n",
    "    \n",
    "res = \"positive\" if x > 0 else \"negative\""
   ]
  },
  {
   "cell_type": "code",
   "execution_count": null,
   "metadata": {
    "collapsed": false
   },
   "outputs": [],
   "source": [
    "# neg pos or zero\n",
    "res = \"zero\" if x == 0 else \"positive\" if x > 0 else \"negative\"\n",
    "\n",
    "print res"
   ]
  },
  {
   "cell_type": "code",
   "execution_count": null,
   "metadata": {
    "collapsed": true
   },
   "outputs": [],
   "source": [
    "# Loops\n",
    "# 1. Conditional Loops\n",
    "# 2. Ranged loops"
   ]
  },
  {
   "cell_type": "code",
   "execution_count": null,
   "metadata": {
    "collapsed": false
   },
   "outputs": [],
   "source": [
    "# 1. Conditional\n",
    "#while condition:\n",
    "#    ...\n",
    "#    ...\n",
    "#    ...\n",
    "i = 1\n",
    "while(i <= 10):\n",
    "    print(i * 3)\n",
    "    i += 1"
   ]
  },
  {
   "cell_type": "code",
   "execution_count": null,
   "metadata": {
    "collapsed": true
   },
   "outputs": [],
   "source": [
    "# 2. Ranged loops\n",
    "# for(i = 0; i< 10; i += 1)\n",
    "\n",
    "# for in python\n",
    "\n",
    " for i in [some range]\n",
    "\n",
    "range(start, end, incr/decr)\n",
    "\n",
    "what it give : \n",
    "    \n",
    "    It gives a \"list\" of numbers, starting from start till (end-1)"
   ]
  },
  {
   "cell_type": "code",
   "execution_count": null,
   "metadata": {
    "collapsed": false
   },
   "outputs": [],
   "source": [
    "range(0,10) # x >= 0 and x < 101-10\n"
   ]
  },
  {
   "cell_type": "code",
   "execution_count": null,
   "metadata": {
    "collapsed": false
   },
   "outputs": [],
   "source": [
    "range(1,11)"
   ]
  },
  {
   "cell_type": "code",
   "execution_count": null,
   "metadata": {
    "collapsed": false
   },
   "outputs": [],
   "source": [
    "# for(i=0;i < 10;i += 1)\n",
    "for i in range(0,10):\n",
    "    print(i * 3)"
   ]
  },
  {
   "cell_type": "code",
   "execution_count": null,
   "metadata": {
    "collapsed": false
   },
   "outputs": [],
   "source": [
    "x = 10\n",
    "x = x * 10\n",
    "x"
   ]
  },
  {
   "cell_type": "code",
   "execution_count": null,
   "metadata": {
    "collapsed": false
   },
   "outputs": [],
   "source": [
    "if x >= 100:\n",
    "    print \"yes\"\n",
    "else :\n",
    "    print \"nope\""
   ]
  },
  {
   "cell_type": "code",
   "execution_count": null,
   "metadata": {
    "collapsed": true
   },
   "outputs": [],
   "source": []
  },
  {
   "cell_type": "code",
   "execution_count": null,
   "metadata": {
    "collapsed": true
   },
   "outputs": [],
   "source": []
  }
 ],
 "metadata": {
  "kernelspec": {
   "display_name": "Python 2",
   "language": "python",
   "name": "python2"
  },
  "language_info": {
   "codemirror_mode": {
    "name": "ipython",
    "version": 2
   },
   "file_extension": ".py",
   "mimetype": "text/x-python",
   "name": "python",
   "nbconvert_exporter": "python",
   "pygments_lexer": "ipython2",
   "version": "2.7.13"
  }
 },
 "nbformat": 4,
 "nbformat_minor": 2
}
